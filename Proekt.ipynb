{
 "cells": [
  {
   "cell_type": "markdown",
   "id": "5ae42f38",
   "metadata": {
    "deletable": false,
    "editable": false,
    "id": "c81daeeb"
   },
   "source": [
    "# Исследование надежности заемщиков\n"
   ]
  },
  {
   "cell_type": "markdown",
   "id": "a9657fa5",
   "metadata": {
    "deletable": false,
    "editable": false,
    "id": "827c20bf"
   },
   "source": [
    "Во второй части проекта вы выполните шаги 3 и 4. Их вручную проверит ревьюер.\n",
    "Чтобы вам не пришлось писать код заново для шагов 1 и 2, мы добавили авторские решения в ячейки с кодом. \n",
    "\n"
   ]
  },
  {
   "cell_type": "markdown",
   "id": "1b67b564",
   "metadata": {
    "deletable": false,
    "editable": false,
    "id": "744d7639"
   },
   "source": [
    "## Откройте таблицу и изучите общую информацию о данных"
   ]
  },
  {
   "cell_type": "markdown",
   "id": "f14cb22a",
   "metadata": {
    "deletable": false,
    "editable": false,
    "id": "e7a14c31"
   },
   "source": [
    "**Задание 1. Импортируйте библиотеку pandas. Считайте данные из csv-файла в датафрейм и сохраните в переменную `data`. Путь к файлу:**\n",
    "\n",
    "`/datasets/data.csv`"
   ]
  },
  {
   "cell_type": "code",
   "execution_count": 38,
   "id": "2d413693",
   "metadata": {
    "deletable": false,
    "id": "7bcf75c9"
   },
   "outputs": [],
   "source": [
    "import pandas as pd\n",
    "\n",
    "try:\n",
    "    data = pd.read_csv('/datasets/data.csv')\n",
    "except:\n",
    "    data = pd.read_csv('https://code.s3.yandex.net/datasets/data.csv')"
   ]
  },
  {
   "cell_type": "markdown",
   "id": "12b296b2",
   "metadata": {
    "deletable": false,
    "editable": false,
    "id": "b8038fe3"
   },
   "source": [
    "**Задание 2. Выведите первые 20 строчек датафрейма `data` на экран.**"
   ]
  },
  {
   "cell_type": "code",
   "execution_count": 39,
   "id": "1e6e246a",
   "metadata": {
    "deletable": false,
    "id": "2a7cab99",
    "outputId": "1a8f3ef2-d323-4ec2-ddf7-89670b5944c4"
   },
   "outputs": [
    {
     "data": {
      "text/html": [
       "<div>\n",
       "<style scoped>\n",
       "    .dataframe tbody tr th:only-of-type {\n",
       "        vertical-align: middle;\n",
       "    }\n",
       "\n",
       "    .dataframe tbody tr th {\n",
       "        vertical-align: top;\n",
       "    }\n",
       "\n",
       "    .dataframe thead th {\n",
       "        text-align: right;\n",
       "    }\n",
       "</style>\n",
       "<table border=\"1\" class=\"dataframe\">\n",
       "  <thead>\n",
       "    <tr style=\"text-align: right;\">\n",
       "      <th></th>\n",
       "      <th>children</th>\n",
       "      <th>days_employed</th>\n",
       "      <th>dob_years</th>\n",
       "      <th>education</th>\n",
       "      <th>education_id</th>\n",
       "      <th>family_status</th>\n",
       "      <th>family_status_id</th>\n",
       "      <th>gender</th>\n",
       "      <th>income_type</th>\n",
       "      <th>debt</th>\n",
       "      <th>total_income</th>\n",
       "      <th>purpose</th>\n",
       "    </tr>\n",
       "  </thead>\n",
       "  <tbody>\n",
       "    <tr>\n",
       "      <th>0</th>\n",
       "      <td>1</td>\n",
       "      <td>-8437.673028</td>\n",
       "      <td>42</td>\n",
       "      <td>высшее</td>\n",
       "      <td>0</td>\n",
       "      <td>женат / замужем</td>\n",
       "      <td>0</td>\n",
       "      <td>F</td>\n",
       "      <td>сотрудник</td>\n",
       "      <td>0</td>\n",
       "      <td>253875.639453</td>\n",
       "      <td>покупка жилья</td>\n",
       "    </tr>\n",
       "    <tr>\n",
       "      <th>1</th>\n",
       "      <td>1</td>\n",
       "      <td>-4024.803754</td>\n",
       "      <td>36</td>\n",
       "      <td>среднее</td>\n",
       "      <td>1</td>\n",
       "      <td>женат / замужем</td>\n",
       "      <td>0</td>\n",
       "      <td>F</td>\n",
       "      <td>сотрудник</td>\n",
       "      <td>0</td>\n",
       "      <td>112080.014102</td>\n",
       "      <td>приобретение автомобиля</td>\n",
       "    </tr>\n",
       "    <tr>\n",
       "      <th>2</th>\n",
       "      <td>0</td>\n",
       "      <td>-5623.422610</td>\n",
       "      <td>33</td>\n",
       "      <td>Среднее</td>\n",
       "      <td>1</td>\n",
       "      <td>женат / замужем</td>\n",
       "      <td>0</td>\n",
       "      <td>M</td>\n",
       "      <td>сотрудник</td>\n",
       "      <td>0</td>\n",
       "      <td>145885.952297</td>\n",
       "      <td>покупка жилья</td>\n",
       "    </tr>\n",
       "    <tr>\n",
       "      <th>3</th>\n",
       "      <td>3</td>\n",
       "      <td>-4124.747207</td>\n",
       "      <td>32</td>\n",
       "      <td>среднее</td>\n",
       "      <td>1</td>\n",
       "      <td>женат / замужем</td>\n",
       "      <td>0</td>\n",
       "      <td>M</td>\n",
       "      <td>сотрудник</td>\n",
       "      <td>0</td>\n",
       "      <td>267628.550329</td>\n",
       "      <td>дополнительное образование</td>\n",
       "    </tr>\n",
       "    <tr>\n",
       "      <th>4</th>\n",
       "      <td>0</td>\n",
       "      <td>340266.072047</td>\n",
       "      <td>53</td>\n",
       "      <td>среднее</td>\n",
       "      <td>1</td>\n",
       "      <td>гражданский брак</td>\n",
       "      <td>1</td>\n",
       "      <td>F</td>\n",
       "      <td>пенсионер</td>\n",
       "      <td>0</td>\n",
       "      <td>158616.077870</td>\n",
       "      <td>сыграть свадьбу</td>\n",
       "    </tr>\n",
       "    <tr>\n",
       "      <th>5</th>\n",
       "      <td>0</td>\n",
       "      <td>-926.185831</td>\n",
       "      <td>27</td>\n",
       "      <td>высшее</td>\n",
       "      <td>0</td>\n",
       "      <td>гражданский брак</td>\n",
       "      <td>1</td>\n",
       "      <td>M</td>\n",
       "      <td>компаньон</td>\n",
       "      <td>0</td>\n",
       "      <td>255763.565419</td>\n",
       "      <td>покупка жилья</td>\n",
       "    </tr>\n",
       "    <tr>\n",
       "      <th>6</th>\n",
       "      <td>0</td>\n",
       "      <td>-2879.202052</td>\n",
       "      <td>43</td>\n",
       "      <td>высшее</td>\n",
       "      <td>0</td>\n",
       "      <td>женат / замужем</td>\n",
       "      <td>0</td>\n",
       "      <td>F</td>\n",
       "      <td>компаньон</td>\n",
       "      <td>0</td>\n",
       "      <td>240525.971920</td>\n",
       "      <td>операции с жильем</td>\n",
       "    </tr>\n",
       "    <tr>\n",
       "      <th>7</th>\n",
       "      <td>0</td>\n",
       "      <td>-152.779569</td>\n",
       "      <td>50</td>\n",
       "      <td>СРЕДНЕЕ</td>\n",
       "      <td>1</td>\n",
       "      <td>женат / замужем</td>\n",
       "      <td>0</td>\n",
       "      <td>M</td>\n",
       "      <td>сотрудник</td>\n",
       "      <td>0</td>\n",
       "      <td>135823.934197</td>\n",
       "      <td>образование</td>\n",
       "    </tr>\n",
       "    <tr>\n",
       "      <th>8</th>\n",
       "      <td>2</td>\n",
       "      <td>-6929.865299</td>\n",
       "      <td>35</td>\n",
       "      <td>ВЫСШЕЕ</td>\n",
       "      <td>0</td>\n",
       "      <td>гражданский брак</td>\n",
       "      <td>1</td>\n",
       "      <td>F</td>\n",
       "      <td>сотрудник</td>\n",
       "      <td>0</td>\n",
       "      <td>95856.832424</td>\n",
       "      <td>на проведение свадьбы</td>\n",
       "    </tr>\n",
       "    <tr>\n",
       "      <th>9</th>\n",
       "      <td>0</td>\n",
       "      <td>-2188.756445</td>\n",
       "      <td>41</td>\n",
       "      <td>среднее</td>\n",
       "      <td>1</td>\n",
       "      <td>женат / замужем</td>\n",
       "      <td>0</td>\n",
       "      <td>M</td>\n",
       "      <td>сотрудник</td>\n",
       "      <td>0</td>\n",
       "      <td>144425.938277</td>\n",
       "      <td>покупка жилья для семьи</td>\n",
       "    </tr>\n",
       "    <tr>\n",
       "      <th>10</th>\n",
       "      <td>2</td>\n",
       "      <td>-4171.483647</td>\n",
       "      <td>36</td>\n",
       "      <td>высшее</td>\n",
       "      <td>0</td>\n",
       "      <td>женат / замужем</td>\n",
       "      <td>0</td>\n",
       "      <td>M</td>\n",
       "      <td>компаньон</td>\n",
       "      <td>0</td>\n",
       "      <td>113943.491460</td>\n",
       "      <td>покупка недвижимости</td>\n",
       "    </tr>\n",
       "    <tr>\n",
       "      <th>11</th>\n",
       "      <td>0</td>\n",
       "      <td>-792.701887</td>\n",
       "      <td>40</td>\n",
       "      <td>среднее</td>\n",
       "      <td>1</td>\n",
       "      <td>женат / замужем</td>\n",
       "      <td>0</td>\n",
       "      <td>F</td>\n",
       "      <td>сотрудник</td>\n",
       "      <td>0</td>\n",
       "      <td>77069.234271</td>\n",
       "      <td>покупка коммерческой недвижимости</td>\n",
       "    </tr>\n",
       "    <tr>\n",
       "      <th>12</th>\n",
       "      <td>0</td>\n",
       "      <td>NaN</td>\n",
       "      <td>65</td>\n",
       "      <td>среднее</td>\n",
       "      <td>1</td>\n",
       "      <td>гражданский брак</td>\n",
       "      <td>1</td>\n",
       "      <td>M</td>\n",
       "      <td>пенсионер</td>\n",
       "      <td>0</td>\n",
       "      <td>NaN</td>\n",
       "      <td>сыграть свадьбу</td>\n",
       "    </tr>\n",
       "    <tr>\n",
       "      <th>13</th>\n",
       "      <td>0</td>\n",
       "      <td>-1846.641941</td>\n",
       "      <td>54</td>\n",
       "      <td>неоконченное высшее</td>\n",
       "      <td>2</td>\n",
       "      <td>женат / замужем</td>\n",
       "      <td>0</td>\n",
       "      <td>F</td>\n",
       "      <td>сотрудник</td>\n",
       "      <td>0</td>\n",
       "      <td>130458.228857</td>\n",
       "      <td>приобретение автомобиля</td>\n",
       "    </tr>\n",
       "    <tr>\n",
       "      <th>14</th>\n",
       "      <td>0</td>\n",
       "      <td>-1844.956182</td>\n",
       "      <td>56</td>\n",
       "      <td>высшее</td>\n",
       "      <td>0</td>\n",
       "      <td>гражданский брак</td>\n",
       "      <td>1</td>\n",
       "      <td>F</td>\n",
       "      <td>компаньон</td>\n",
       "      <td>1</td>\n",
       "      <td>165127.911772</td>\n",
       "      <td>покупка жилой недвижимости</td>\n",
       "    </tr>\n",
       "    <tr>\n",
       "      <th>15</th>\n",
       "      <td>1</td>\n",
       "      <td>-972.364419</td>\n",
       "      <td>26</td>\n",
       "      <td>среднее</td>\n",
       "      <td>1</td>\n",
       "      <td>женат / замужем</td>\n",
       "      <td>0</td>\n",
       "      <td>F</td>\n",
       "      <td>сотрудник</td>\n",
       "      <td>0</td>\n",
       "      <td>116820.904450</td>\n",
       "      <td>строительство собственной недвижимости</td>\n",
       "    </tr>\n",
       "    <tr>\n",
       "      <th>16</th>\n",
       "      <td>0</td>\n",
       "      <td>-1719.934226</td>\n",
       "      <td>35</td>\n",
       "      <td>среднее</td>\n",
       "      <td>1</td>\n",
       "      <td>женат / замужем</td>\n",
       "      <td>0</td>\n",
       "      <td>F</td>\n",
       "      <td>сотрудник</td>\n",
       "      <td>0</td>\n",
       "      <td>289202.704229</td>\n",
       "      <td>недвижимость</td>\n",
       "    </tr>\n",
       "    <tr>\n",
       "      <th>17</th>\n",
       "      <td>0</td>\n",
       "      <td>-2369.999720</td>\n",
       "      <td>33</td>\n",
       "      <td>высшее</td>\n",
       "      <td>0</td>\n",
       "      <td>гражданский брак</td>\n",
       "      <td>1</td>\n",
       "      <td>M</td>\n",
       "      <td>сотрудник</td>\n",
       "      <td>0</td>\n",
       "      <td>90410.586745</td>\n",
       "      <td>строительство недвижимости</td>\n",
       "    </tr>\n",
       "    <tr>\n",
       "      <th>18</th>\n",
       "      <td>0</td>\n",
       "      <td>400281.136913</td>\n",
       "      <td>53</td>\n",
       "      <td>среднее</td>\n",
       "      <td>1</td>\n",
       "      <td>вдовец / вдова</td>\n",
       "      <td>2</td>\n",
       "      <td>F</td>\n",
       "      <td>пенсионер</td>\n",
       "      <td>0</td>\n",
       "      <td>56823.777243</td>\n",
       "      <td>на покупку подержанного автомобиля</td>\n",
       "    </tr>\n",
       "    <tr>\n",
       "      <th>19</th>\n",
       "      <td>0</td>\n",
       "      <td>-10038.818549</td>\n",
       "      <td>48</td>\n",
       "      <td>СРЕДНЕЕ</td>\n",
       "      <td>1</td>\n",
       "      <td>в разводе</td>\n",
       "      <td>3</td>\n",
       "      <td>F</td>\n",
       "      <td>сотрудник</td>\n",
       "      <td>0</td>\n",
       "      <td>242831.107982</td>\n",
       "      <td>на покупку своего автомобиля</td>\n",
       "    </tr>\n",
       "  </tbody>\n",
       "</table>\n",
       "</div>"
      ],
      "text/plain": [
       "    children  days_employed  dob_years            education  education_id  \\\n",
       "0          1   -8437.673028         42               высшее             0   \n",
       "1          1   -4024.803754         36              среднее             1   \n",
       "2          0   -5623.422610         33              Среднее             1   \n",
       "3          3   -4124.747207         32              среднее             1   \n",
       "4          0  340266.072047         53              среднее             1   \n",
       "5          0    -926.185831         27               высшее             0   \n",
       "6          0   -2879.202052         43               высшее             0   \n",
       "7          0    -152.779569         50              СРЕДНЕЕ             1   \n",
       "8          2   -6929.865299         35               ВЫСШЕЕ             0   \n",
       "9          0   -2188.756445         41              среднее             1   \n",
       "10         2   -4171.483647         36               высшее             0   \n",
       "11         0    -792.701887         40              среднее             1   \n",
       "12         0            NaN         65              среднее             1   \n",
       "13         0   -1846.641941         54  неоконченное высшее             2   \n",
       "14         0   -1844.956182         56               высшее             0   \n",
       "15         1    -972.364419         26              среднее             1   \n",
       "16         0   -1719.934226         35              среднее             1   \n",
       "17         0   -2369.999720         33               высшее             0   \n",
       "18         0  400281.136913         53              среднее             1   \n",
       "19         0  -10038.818549         48              СРЕДНЕЕ             1   \n",
       "\n",
       "       family_status  family_status_id gender income_type  debt  \\\n",
       "0    женат / замужем                 0      F   сотрудник     0   \n",
       "1    женат / замужем                 0      F   сотрудник     0   \n",
       "2    женат / замужем                 0      M   сотрудник     0   \n",
       "3    женат / замужем                 0      M   сотрудник     0   \n",
       "4   гражданский брак                 1      F   пенсионер     0   \n",
       "5   гражданский брак                 1      M   компаньон     0   \n",
       "6    женат / замужем                 0      F   компаньон     0   \n",
       "7    женат / замужем                 0      M   сотрудник     0   \n",
       "8   гражданский брак                 1      F   сотрудник     0   \n",
       "9    женат / замужем                 0      M   сотрудник     0   \n",
       "10   женат / замужем                 0      M   компаньон     0   \n",
       "11   женат / замужем                 0      F   сотрудник     0   \n",
       "12  гражданский брак                 1      M   пенсионер     0   \n",
       "13   женат / замужем                 0      F   сотрудник     0   \n",
       "14  гражданский брак                 1      F   компаньон     1   \n",
       "15   женат / замужем                 0      F   сотрудник     0   \n",
       "16   женат / замужем                 0      F   сотрудник     0   \n",
       "17  гражданский брак                 1      M   сотрудник     0   \n",
       "18    вдовец / вдова                 2      F   пенсионер     0   \n",
       "19         в разводе                 3      F   сотрудник     0   \n",
       "\n",
       "     total_income                                 purpose  \n",
       "0   253875.639453                           покупка жилья  \n",
       "1   112080.014102                 приобретение автомобиля  \n",
       "2   145885.952297                           покупка жилья  \n",
       "3   267628.550329              дополнительное образование  \n",
       "4   158616.077870                         сыграть свадьбу  \n",
       "5   255763.565419                           покупка жилья  \n",
       "6   240525.971920                       операции с жильем  \n",
       "7   135823.934197                             образование  \n",
       "8    95856.832424                   на проведение свадьбы  \n",
       "9   144425.938277                 покупка жилья для семьи  \n",
       "10  113943.491460                    покупка недвижимости  \n",
       "11   77069.234271       покупка коммерческой недвижимости  \n",
       "12            NaN                         сыграть свадьбу  \n",
       "13  130458.228857                 приобретение автомобиля  \n",
       "14  165127.911772              покупка жилой недвижимости  \n",
       "15  116820.904450  строительство собственной недвижимости  \n",
       "16  289202.704229                            недвижимость  \n",
       "17   90410.586745              строительство недвижимости  \n",
       "18   56823.777243      на покупку подержанного автомобиля  \n",
       "19  242831.107982            на покупку своего автомобиля  "
      ]
     },
     "execution_count": 39,
     "metadata": {},
     "output_type": "execute_result"
    }
   ],
   "source": [
    "data.head(20)"
   ]
  },
  {
   "cell_type": "markdown",
   "id": "27544424",
   "metadata": {
    "deletable": false,
    "editable": false,
    "id": "1c12e233"
   },
   "source": [
    "**Задание 3. Выведите основную информацию о датафрейме с помощью метода `info()`.**"
   ]
  },
  {
   "cell_type": "code",
   "execution_count": 40,
   "id": "91151cc0",
   "metadata": {
    "deletable": false,
    "id": "2b757bca",
    "outputId": "15376089-8dad-46c9-b520-c05248d43158"
   },
   "outputs": [
    {
     "name": "stdout",
     "output_type": "stream",
     "text": [
      "<class 'pandas.core.frame.DataFrame'>\n",
      "RangeIndex: 21525 entries, 0 to 21524\n",
      "Data columns (total 12 columns):\n",
      " #   Column            Non-Null Count  Dtype  \n",
      "---  ------            --------------  -----  \n",
      " 0   children          21525 non-null  int64  \n",
      " 1   days_employed     19351 non-null  float64\n",
      " 2   dob_years         21525 non-null  int64  \n",
      " 3   education         21525 non-null  object \n",
      " 4   education_id      21525 non-null  int64  \n",
      " 5   family_status     21525 non-null  object \n",
      " 6   family_status_id  21525 non-null  int64  \n",
      " 7   gender            21525 non-null  object \n",
      " 8   income_type       21525 non-null  object \n",
      " 9   debt              21525 non-null  int64  \n",
      " 10  total_income      19351 non-null  float64\n",
      " 11  purpose           21525 non-null  object \n",
      "dtypes: float64(2), int64(5), object(5)\n",
      "memory usage: 2.0+ MB\n"
     ]
    }
   ],
   "source": [
    "data.info()"
   ]
  },
  {
   "cell_type": "markdown",
   "id": "88b30e92",
   "metadata": {
    "deletable": false,
    "editable": false,
    "id": "333ec665"
   },
   "source": [
    "## Предобработка данных"
   ]
  },
  {
   "cell_type": "markdown",
   "id": "acb2ef1a",
   "metadata": {
    "deletable": false,
    "editable": false,
    "id": "02d92d53"
   },
   "source": [
    "### Удаление пропусков"
   ]
  },
  {
   "cell_type": "markdown",
   "id": "01ee7c15",
   "metadata": {
    "deletable": false,
    "editable": false,
    "id": "cd84967c"
   },
   "source": [
    "**Задание 4. Выведите количество пропущенных значений для каждого столбца. Используйте комбинацию двух методов.**"
   ]
  },
  {
   "cell_type": "code",
   "execution_count": 41,
   "id": "75c1605f",
   "metadata": {
    "deletable": false,
    "id": "7f9b2309",
    "outputId": "81f4d817-781c-465c-ed15-91ce4446810d"
   },
   "outputs": [
    {
     "data": {
      "text/plain": [
       "children               0\n",
       "days_employed       2174\n",
       "dob_years              0\n",
       "education              0\n",
       "education_id           0\n",
       "family_status          0\n",
       "family_status_id       0\n",
       "gender                 0\n",
       "income_type            0\n",
       "debt                   0\n",
       "total_income        2174\n",
       "purpose                0\n",
       "dtype: int64"
      ]
     },
     "execution_count": 41,
     "metadata": {},
     "output_type": "execute_result"
    }
   ],
   "source": [
    "data.isna().sum()"
   ]
  },
  {
   "cell_type": "markdown",
   "id": "b6f47962",
   "metadata": {
    "deletable": false,
    "editable": false,
    "id": "db86e27b"
   },
   "source": [
    "**Задание 5. В двух столбцах есть пропущенные значения. Один из них — `days_employed`. Пропуски в этом столбце вы обработаете на следующем этапе. Другой столбец с пропущенными значениями — `total_income` — хранит данные о доходах. На сумму дохода сильнее всего влияет тип занятости, поэтому заполнить пропуски в этом столбце нужно медианным значением по каждому типу из столбца `income_type`. Например, у человека с типом занятости `сотрудник` пропуск в столбце `total_income` должен быть заполнен медианным доходом среди всех записей с тем же типом.**"
   ]
  },
  {
   "cell_type": "code",
   "execution_count": 42,
   "id": "6e5cd6c4",
   "metadata": {
    "deletable": false,
    "id": "42006a93"
   },
   "outputs": [],
   "source": [
    "for t in data['income_type'].unique():\n",
    "    data.loc[(data['income_type'] == t) & (data['total_income'].isna()), 'total_income'] = \\\n",
    "    data.loc[(data['income_type'] == t), 'total_income'].median()"
   ]
  },
  {
   "cell_type": "markdown",
   "id": "8310f3ca",
   "metadata": {
    "deletable": false,
    "editable": false,
    "id": "89da5ece"
   },
   "source": [
    "### Обработка аномальных значений"
   ]
  },
  {
   "cell_type": "markdown",
   "id": "8b1b1605",
   "metadata": {
    "deletable": false,
    "editable": false,
    "id": "57964554"
   },
   "source": [
    "**Задание 6. В данных могут встречаться артефакты (аномалии) — значения, которые не отражают действительность и появились по какой-то ошибке. таким артефактом будет отрицательное количество дней трудового стажа в столбце `days_employed`. Для реальных данных это нормально. Обработайте значения в этом столбце: замените все отрицательные значения положительными с помощью метода `abs()`.**"
   ]
  },
  {
   "cell_type": "code",
   "execution_count": 43,
   "id": "32763bc1",
   "metadata": {
    "deletable": false,
    "id": "f6f055bf"
   },
   "outputs": [],
   "source": [
    "data['days_employed'] = data['days_employed'].abs()"
   ]
  },
  {
   "cell_type": "markdown",
   "id": "5cd2e19c",
   "metadata": {
    "deletable": false,
    "editable": false,
    "id": "6107dd2f"
   },
   "source": [
    "**Задание 7. Для каждого типа занятости выведите медианное значение трудового стажа `days_employed` в днях.**"
   ]
  },
  {
   "cell_type": "code",
   "execution_count": 44,
   "id": "fc7ffea9",
   "metadata": {
    "deletable": false,
    "id": "85a5faf6",
    "outputId": "801ef80e-522b-4668-f34e-565af7432bcf"
   },
   "outputs": [
    {
     "data": {
      "text/plain": [
       "income_type\n",
       "безработный        366413.652744\n",
       "в декрете            3296.759962\n",
       "госслужащий          2689.368353\n",
       "компаньон            1547.382223\n",
       "пенсионер          365213.306266\n",
       "предприниматель       520.848083\n",
       "сотрудник            1574.202821\n",
       "студент               578.751554\n",
       "Name: days_employed, dtype: float64"
      ]
     },
     "execution_count": 44,
     "metadata": {},
     "output_type": "execute_result"
    }
   ],
   "source": [
    "data.groupby('income_type')['days_employed'].agg('median')"
   ]
  },
  {
   "cell_type": "markdown",
   "id": "06a85010",
   "metadata": {
    "deletable": false,
    "editable": false,
    "id": "38d1a030"
   },
   "source": [
    "У двух типов (безработные и пенсионеры) получатся аномально большие значения. Исправить такие значения сложно, поэтому оставьте их как есть. Тем более этот столбец не понадобится вам для исследования."
   ]
  },
  {
   "cell_type": "markdown",
   "id": "bf8e314f",
   "metadata": {
    "deletable": false,
    "editable": false,
    "id": "d8a9f147"
   },
   "source": [
    "**Задание 8. Выведите перечень уникальных значений столбца `children`.**"
   ]
  },
  {
   "cell_type": "code",
   "execution_count": 45,
   "id": "5aa24700",
   "metadata": {
    "deletable": false,
    "id": "ef5056eb",
    "outputId": "6975b15c-7f95-4697-d16d-a0c79b657b03"
   },
   "outputs": [
    {
     "data": {
      "text/plain": [
       "array([ 1,  0,  3,  2, -1,  4, 20,  5])"
      ]
     },
     "execution_count": 45,
     "metadata": {},
     "output_type": "execute_result"
    }
   ],
   "source": [
    "data['children'].unique()"
   ]
  },
  {
   "cell_type": "markdown",
   "id": "010d3309",
   "metadata": {
    "deletable": false,
    "editable": false,
    "id": "40b9ebf2"
   },
   "source": [
    "**Задание 9. В столбце `children` есть два аномальных значения. Удалите строки, в которых встречаются такие аномальные значения из датафрейма `data`.**"
   ]
  },
  {
   "cell_type": "code",
   "execution_count": 46,
   "id": "0c6d3f8d",
   "metadata": {
    "deletable": false,
    "id": "3ff9801d"
   },
   "outputs": [],
   "source": [
    "data = data[(data['children'] != -1) & (data['children'] != 20)]"
   ]
  },
  {
   "cell_type": "markdown",
   "id": "2c95fe08",
   "metadata": {
    "deletable": false,
    "editable": false,
    "id": "bbc4d0ce"
   },
   "source": [
    "**Задание 10. Ещё раз выведите перечень уникальных значений столбца `children`, чтобы убедиться, что артефакты удалены.**"
   ]
  },
  {
   "cell_type": "code",
   "execution_count": 47,
   "id": "9cca9f6a",
   "metadata": {
    "deletable": false,
    "id": "ad4fa8b7",
    "outputId": "b2097101-d49d-44d9-901b-32a65c9463d1"
   },
   "outputs": [
    {
     "data": {
      "text/plain": [
       "array([1, 0, 3, 2, 4, 5])"
      ]
     },
     "execution_count": 47,
     "metadata": {},
     "output_type": "execute_result"
    }
   ],
   "source": [
    "data['children'].unique()"
   ]
  },
  {
   "cell_type": "markdown",
   "id": "46f33c78",
   "metadata": {
    "deletable": false,
    "editable": false,
    "id": "75440b63"
   },
   "source": [
    "### Удаление пропусков (продолжение)"
   ]
  },
  {
   "cell_type": "markdown",
   "id": "7cc85711",
   "metadata": {
    "deletable": false,
    "editable": false,
    "id": "f4ea573f"
   },
   "source": [
    "**Задание 11. Заполните пропуски в столбце `days_employed` медианными значениями по каждого типа занятости `income_type`.**"
   ]
  },
  {
   "cell_type": "code",
   "execution_count": 48,
   "id": "4a7a4de9",
   "metadata": {
    "deletable": false,
    "id": "af6b1a7e"
   },
   "outputs": [],
   "source": [
    "for t in data['income_type'].unique():\n",
    "    data.loc[(data['income_type'] == t) & (data['days_employed'].isna()), 'days_employed'] = \\\n",
    "    data.loc[(data['income_type'] == t), 'days_employed'].median()"
   ]
  },
  {
   "cell_type": "markdown",
   "id": "62d9e3bd",
   "metadata": {
    "deletable": false,
    "editable": false,
    "id": "2753f40d"
   },
   "source": [
    "**Задание 12. Убедитесь, что все пропуски заполнены. Проверьте себя и ещё раз выведите количество пропущенных значений для каждого столбца с помощью двух методов.**"
   ]
  },
  {
   "cell_type": "code",
   "execution_count": 49,
   "id": "8651c666",
   "metadata": {
    "deletable": false,
    "id": "55f78bc2",
    "outputId": "8da1e4e1-358e-4e87-98c9-f261bce0a7b2"
   },
   "outputs": [
    {
     "data": {
      "text/plain": [
       "children            0\n",
       "days_employed       0\n",
       "dob_years           0\n",
       "education           0\n",
       "education_id        0\n",
       "family_status       0\n",
       "family_status_id    0\n",
       "gender              0\n",
       "income_type         0\n",
       "debt                0\n",
       "total_income        0\n",
       "purpose             0\n",
       "dtype: int64"
      ]
     },
     "execution_count": 49,
     "metadata": {},
     "output_type": "execute_result"
    }
   ],
   "source": [
    "data.isna().sum()"
   ]
  },
  {
   "cell_type": "markdown",
   "id": "a4929150",
   "metadata": {
    "deletable": false,
    "editable": false,
    "id": "ddc81e43"
   },
   "source": [
    "### Изменение типов данных"
   ]
  },
  {
   "cell_type": "markdown",
   "id": "2424b658",
   "metadata": {
    "deletable": false,
    "editable": false,
    "id": "42d19d24"
   },
   "source": [
    "**Задание 13. Замените вещественный тип данных в столбце `total_income` на целочисленный с помощью метода `astype()`.**"
   ]
  },
  {
   "cell_type": "code",
   "execution_count": 50,
   "id": "d524bcf8",
   "metadata": {
    "deletable": false,
    "id": "920b65ad"
   },
   "outputs": [],
   "source": [
    "data['total_income'] = data['total_income'].astype(int)"
   ]
  },
  {
   "cell_type": "markdown",
   "id": "13c9c17d",
   "metadata": {
    "deletable": false,
    "editable": false,
    "id": "80c420ba"
   },
   "source": [
    "### Обработка дубликатов"
   ]
  },
  {
   "cell_type": "markdown",
   "id": "0c36ad5d",
   "metadata": {
    "deletable": false,
    "editable": false
   },
   "source": [
    "**Задание 14. Обработайте неявные дубликаты в столбце `education`. В этом столбце есть одни и те же значения, но записанные по-разному: с использованием заглавных и строчных букв. Приведите их к нижнему регистру. Проверьте остальные столбцы.**"
   ]
  },
  {
   "cell_type": "code",
   "execution_count": 51,
   "id": "a7469808",
   "metadata": {
    "deletable": false
   },
   "outputs": [],
   "source": [
    "data['education'] = data['education'].str.lower()"
   ]
  },
  {
   "cell_type": "markdown",
   "id": "68b6e922",
   "metadata": {
    "deletable": false,
    "editable": false,
    "id": "dc587695"
   },
   "source": [
    "**Задание 15. Выведите на экран количество строк-дубликатов в данных. Если такие строки присутствуют, удалите их.**"
   ]
  },
  {
   "cell_type": "code",
   "execution_count": 52,
   "id": "86f315aa",
   "metadata": {
    "deletable": false,
    "id": "3ee445e4",
    "outputId": "9684deba-1934-42d1-99e1-cda61740f822"
   },
   "outputs": [
    {
     "data": {
      "text/plain": [
       "71"
      ]
     },
     "execution_count": 52,
     "metadata": {},
     "output_type": "execute_result"
    }
   ],
   "source": [
    "data.duplicated().sum()"
   ]
  },
  {
   "cell_type": "code",
   "execution_count": 53,
   "id": "cffa85c3",
   "metadata": {
    "deletable": false,
    "id": "8575fe05"
   },
   "outputs": [],
   "source": [
    "data = data.drop_duplicates()"
   ]
  },
  {
   "cell_type": "markdown",
   "id": "b3c3d0c8",
   "metadata": {
    "deletable": false,
    "editable": false,
    "id": "9904cf55"
   },
   "source": [
    "### Категоризация данных"
   ]
  },
  {
   "cell_type": "markdown",
   "id": "0937fa57",
   "metadata": {
    "deletable": false,
    "editable": false,
    "id": "72fcc8a2"
   },
   "source": [
    "**Задание 16. На основании диапазонов, указанных ниже, создайте в датафрейме `data` столбец `total_income_category` с категориями:**\n",
    "\n",
    "- 0–30000 — `'E'`;\n",
    "- 30001–50000 — `'D'`;\n",
    "- 50001–200000 — `'C'`;\n",
    "- 200001–1000000 — `'B'`;\n",
    "- 1000001 и выше — `'A'`.\n",
    "\n",
    "\n",
    "**Например, кредитополучателю с доходом 25000 нужно назначить категорию `'E'`, а клиенту, получающему 235000, — `'B'`. Используйте собственную функцию с именем `categorize_income()` и метод `apply()`.**"
   ]
  },
  {
   "cell_type": "code",
   "execution_count": 54,
   "id": "20aabb36",
   "metadata": {
    "deletable": false,
    "id": "e1771346"
   },
   "outputs": [],
   "source": [
    "def categorize_income(income):\n",
    "    try:\n",
    "        if 0 <= income <= 30000:\n",
    "            return 'E'\n",
    "        elif 30001 <= income <= 50000:\n",
    "            return 'D'\n",
    "        elif 50001 <= income <= 200000:\n",
    "            return 'C'\n",
    "        elif 200001 <= income <= 1000000:\n",
    "            return 'B'\n",
    "        elif income >= 1000001:\n",
    "            return 'A'\n",
    "    except:\n",
    "        pass"
   ]
  },
  {
   "cell_type": "code",
   "execution_count": 55,
   "id": "986c017c",
   "metadata": {
    "deletable": false,
    "id": "d5f3586d"
   },
   "outputs": [],
   "source": [
    "data['total_income_category'] = data['total_income'].apply(categorize_income)"
   ]
  },
  {
   "cell_type": "markdown",
   "id": "8d36af27",
   "metadata": {
    "deletable": false,
    "editable": false,
    "id": "dde49b5c"
   },
   "source": [
    "**Задание 17. Выведите на экран перечень уникальных целей взятия кредита из столбца `purpose`.**"
   ]
  },
  {
   "cell_type": "code",
   "execution_count": 56,
   "id": "035049e0",
   "metadata": {
    "deletable": false,
    "id": "f67ce9b3",
    "outputId": "673c12d9-7d7e-4ae0-9812-c622c89dd244"
   },
   "outputs": [
    {
     "data": {
      "text/plain": [
       "array(['покупка жилья', 'приобретение автомобиля',\n",
       "       'дополнительное образование', 'сыграть свадьбу',\n",
       "       'операции с жильем', 'образование', 'на проведение свадьбы',\n",
       "       'покупка жилья для семьи', 'покупка недвижимости',\n",
       "       'покупка коммерческой недвижимости', 'покупка жилой недвижимости',\n",
       "       'строительство собственной недвижимости', 'недвижимость',\n",
       "       'строительство недвижимости', 'на покупку подержанного автомобиля',\n",
       "       'на покупку своего автомобиля',\n",
       "       'операции с коммерческой недвижимостью',\n",
       "       'строительство жилой недвижимости', 'жилье',\n",
       "       'операции со своей недвижимостью', 'автомобили',\n",
       "       'заняться образованием', 'сделка с подержанным автомобилем',\n",
       "       'получение образования', 'автомобиль', 'свадьба',\n",
       "       'получение дополнительного образования', 'покупка своего жилья',\n",
       "       'операции с недвижимостью', 'получение высшего образования',\n",
       "       'свой автомобиль', 'сделка с автомобилем',\n",
       "       'профильное образование', 'высшее образование',\n",
       "       'покупка жилья для сдачи', 'на покупку автомобиля', 'ремонт жилью',\n",
       "       'заняться высшим образованием'], dtype=object)"
      ]
     },
     "execution_count": 56,
     "metadata": {},
     "output_type": "execute_result"
    }
   ],
   "source": [
    "data['purpose'].unique()"
   ]
  },
  {
   "cell_type": "markdown",
   "id": "88279053",
   "metadata": {
    "deletable": false,
    "editable": false,
    "id": "85d0aef0"
   },
   "source": [
    "**Задание 18. Создайте функцию, которая на основании данных из столбца `purpose` сформирует новый столбец `purpose_category`, в который войдут следующие категории:**\n",
    "\n",
    "- `'операции с автомобилем'`,\n",
    "- `'операции с недвижимостью'`,\n",
    "- `'проведение свадьбы'`,\n",
    "- `'получение образования'`.\n",
    "\n",
    "**Например, если в столбце `purpose` находится подстрока `'на покупку автомобиля'`, то в столбце `purpose_category` должна появиться строка `'операции с автомобилем'`.**\n",
    "\n",
    "**Используйте собственную функцию с именем `categorize_purpose()` и метод `apply()`. Изучите данные в столбце `purpose` и определите, какие подстроки помогут вам правильно определить категорию.**"
   ]
  },
  {
   "cell_type": "code",
   "execution_count": 57,
   "id": "9eb21a9f",
   "metadata": {
    "deletable": false,
    "id": "e149fab4"
   },
   "outputs": [],
   "source": [
    "def categorize_purpose(row):\n",
    "    try:\n",
    "        if 'автом' in row:\n",
    "            return 'операции с автомобилем'\n",
    "        elif 'жил' in row or 'недвиж' in row:\n",
    "            return 'операции с недвижимостью'\n",
    "        elif 'свад' in row:\n",
    "            return 'проведение свадьбы'\n",
    "        elif 'образов' in row:\n",
    "            return 'получение образования'\n",
    "    except:\n",
    "        return 'нет категории'"
   ]
  },
  {
   "cell_type": "code",
   "execution_count": 58,
   "id": "5eb98665",
   "metadata": {
    "deletable": false,
    "id": "bf36e69b"
   },
   "outputs": [
    {
     "name": "stdout",
     "output_type": "stream",
     "text": [
      "    children  days_employed  dob_years            education  education_id  \\\n",
      "0          1    8437.673028         42               высшее             0   \n",
      "1          1    4024.803754         36              среднее             1   \n",
      "2          0    5623.422610         33              среднее             1   \n",
      "3          3    4124.747207         32              среднее             1   \n",
      "4          0  340266.072047         53              среднее             1   \n",
      "5          0     926.185831         27               высшее             0   \n",
      "6          0    2879.202052         43               высшее             0   \n",
      "7          0     152.779569         50              среднее             1   \n",
      "8          2    6929.865299         35               высшее             0   \n",
      "9          0    2188.756445         41              среднее             1   \n",
      "10         2    4171.483647         36               высшее             0   \n",
      "11         0     792.701887         40              среднее             1   \n",
      "12         0  365286.622650         65              среднее             1   \n",
      "13         0    1846.641941         54  неоконченное высшее             2   \n",
      "14         0    1844.956182         56               высшее             0   \n",
      "15         1     972.364419         26              среднее             1   \n",
      "16         0    1719.934226         35              среднее             1   \n",
      "17         0    2369.999720         33               высшее             0   \n",
      "18         0  400281.136913         53              среднее             1   \n",
      "19         0   10038.818549         48              среднее             1   \n",
      "\n",
      "       family_status  family_status_id gender income_type  debt  total_income  \\\n",
      "0    женат / замужем                 0      F   сотрудник     0        253875   \n",
      "1    женат / замужем                 0      F   сотрудник     0        112080   \n",
      "2    женат / замужем                 0      M   сотрудник     0        145885   \n",
      "3    женат / замужем                 0      M   сотрудник     0        267628   \n",
      "4   гражданский брак                 1      F   пенсионер     0        158616   \n",
      "5   гражданский брак                 1      M   компаньон     0        255763   \n",
      "6    женат / замужем                 0      F   компаньон     0        240525   \n",
      "7    женат / замужем                 0      M   сотрудник     0        135823   \n",
      "8   гражданский брак                 1      F   сотрудник     0         95856   \n",
      "9    женат / замужем                 0      M   сотрудник     0        144425   \n",
      "10   женат / замужем                 0      M   компаньон     0        113943   \n",
      "11   женат / замужем                 0      F   сотрудник     0         77069   \n",
      "12  гражданский брак                 1      M   пенсионер     0        118514   \n",
      "13   женат / замужем                 0      F   сотрудник     0        130458   \n",
      "14  гражданский брак                 1      F   компаньон     1        165127   \n",
      "15   женат / замужем                 0      F   сотрудник     0        116820   \n",
      "16   женат / замужем                 0      F   сотрудник     0        289202   \n",
      "17  гражданский брак                 1      M   сотрудник     0         90410   \n",
      "18    вдовец / вдова                 2      F   пенсионер     0         56823   \n",
      "19         в разводе                 3      F   сотрудник     0        242831   \n",
      "\n",
      "                                   purpose total_income_category  \\\n",
      "0                            покупка жилья                     B   \n",
      "1                  приобретение автомобиля                     C   \n",
      "2                            покупка жилья                     C   \n",
      "3               дополнительное образование                     B   \n",
      "4                          сыграть свадьбу                     C   \n",
      "5                            покупка жилья                     B   \n",
      "6                        операции с жильем                     B   \n",
      "7                              образование                     C   \n",
      "8                    на проведение свадьбы                     C   \n",
      "9                  покупка жилья для семьи                     C   \n",
      "10                    покупка недвижимости                     C   \n",
      "11       покупка коммерческой недвижимости                     C   \n",
      "12                         сыграть свадьбу                     C   \n",
      "13                 приобретение автомобиля                     C   \n",
      "14              покупка жилой недвижимости                     C   \n",
      "15  строительство собственной недвижимости                     C   \n",
      "16                            недвижимость                     B   \n",
      "17              строительство недвижимости                     C   \n",
      "18      на покупку подержанного автомобиля                     C   \n",
      "19            на покупку своего автомобиля                     B   \n",
      "\n",
      "            purpose_category  \n",
      "0   операции с недвижимостью  \n",
      "1     операции с автомобилем  \n",
      "2   операции с недвижимостью  \n",
      "3      получение образования  \n",
      "4         проведение свадьбы  \n",
      "5   операции с недвижимостью  \n",
      "6   операции с недвижимостью  \n",
      "7      получение образования  \n",
      "8         проведение свадьбы  \n",
      "9   операции с недвижимостью  \n",
      "10  операции с недвижимостью  \n",
      "11  операции с недвижимостью  \n",
      "12        проведение свадьбы  \n",
      "13    операции с автомобилем  \n",
      "14  операции с недвижимостью  \n",
      "15  операции с недвижимостью  \n",
      "16  операции с недвижимостью  \n",
      "17  операции с недвижимостью  \n",
      "18    операции с автомобилем  \n",
      "19    операции с автомобилем  \n"
     ]
    }
   ],
   "source": [
    "data['purpose_category'] = data['purpose'].apply(categorize_purpose)\n",
    "print(data.head(20))"
   ]
  },
  {
   "cell_type": "markdown",
   "id": "a4adaec1",
   "metadata": {
    "deletable": false,
    "editable": false,
    "id": "09b242bf"
   },
   "source": [
    "### Шаг 3. Исследуйте данные и ответьте на вопросы"
   ]
  },
  {
   "cell_type": "markdown",
   "id": "02305b15",
   "metadata": {
    "deletable": false,
    "editable": false,
    "id": "c5d66278"
   },
   "source": [
    "#### 3.1 Есть ли зависимость между количеством детей и возвратом кредита в срок?"
   ]
  },
  {
   "cell_type": "code",
   "execution_count": 59,
   "id": "1c453663",
   "metadata": {
    "deletable": false,
    "id": "2cacfc4a"
   },
   "outputs": [
    {
     "name": "stdout",
     "output_type": "stream",
     "text": [
      "          total_clients  delay_credit  ratio_delay_credit\n",
      "children                                                 \n",
      "0                 14091          1063            7.543822\n",
      "1                  4808           444            9.234609\n",
      "2                  2052           194            9.454191\n",
      "3                   330            27            8.181818\n",
      "4                    41             4            9.756098\n",
      "5                     9             0            0.000000\n"
     ]
    }
   ],
   "source": [
    "# Ваш код будет здесь. Вы можете создавать новые ячейки.\n",
    "pivot1 = data.pivot_table(index = ['children'],values = 'debt', aggfunc = {'sum', 'count'}) #сначала когда делал сводную таблицу немного не разобрался с values , columns, спасибо большое за комментарий про нескольколько функций aggfunc!\n",
    "pivot1 = pivot1.rename(columns = {'count' : 'total_clients', 'sum' : 'delay_credit'})\n",
    "pivot1['ratio_delay_credit'] = pivot1['delay_credit'] / pivot1['total_clients'] * 100\n",
    "print(pivot1)"
   ]
  },
  {
   "cell_type": "markdown",
   "id": "e1ffd094",
   "metadata": {
    "deletable": false,
    "id": "3a6b99ec"
   },
   "source": [
    "**Вывод:** Из данной таблицы , можем сделать вывод что появление ребенка увеличивает возможность просроченного платежа по кредиту. Ведь чем больше детей, тем больше и трат."
   ]
  },
  {
   "cell_type": "markdown",
   "id": "fe5f7edc",
   "metadata": {
    "deletable": false,
    "editable": false,
    "id": "97be82ca"
   },
   "source": [
    "#### 3.2 Есть ли зависимость между семейным положением и возвратом кредита в срок?"
   ]
  },
  {
   "cell_type": "code",
   "execution_count": 60,
   "id": "bdadf36b",
   "metadata": {
    "deletable": false,
    "id": "dc3f7ee8"
   },
   "outputs": [
    {
     "name": "stdout",
     "output_type": "stream",
     "text": [
      "                       total_clients  delay_credit  ratio_delay_credit\n",
      "family_status                                                         \n",
      "Не женат / не замужем           2796           273            9.763948\n",
      "в разводе                       1189            84            7.064760\n",
      "вдовец / вдова                   951            63            6.624606\n",
      "гражданский брак                4134           385            9.313014\n",
      "женат / замужем                12261           927            7.560558\n"
     ]
    }
   ],
   "source": [
    "# Ваш код будет здесь. Вы можете создавать новые ячейки.\n",
    "pivot2 = data.pivot_table(index = ['family_status'], values = 'debt', aggfunc = {'count', 'sum'})\n",
    "pivot2 = pivot2.rename(columns = {'count' : 'total_clients', 'sum': 'delay_credit'}) # переименнуем столбцы , для визуального понятия\n",
    "pivot2['ratio_delay_credit'] = pivot2['delay_credit'] / pivot2['total_clients'] * 100 # найдем долю просрочек по каждой категории\n",
    "print(pivot2) # все поправил "
   ]
  },
  {
   "cell_type": "markdown",
   "id": "fef45289",
   "metadata": {
    "deletable": false,
    "id": "1cef7837"
   },
   "source": [
    "**Вывод:** Как можем заметить , клиенты из категории 'Не женат / не замужем' и 'Гражданский брак' реже выплачивают кредит в срок"
   ]
  },
  {
   "cell_type": "markdown",
   "id": "9da9ac28",
   "metadata": {
    "deletable": false,
    "editable": false,
    "id": "1e8b2fca"
   },
   "source": [
    "#### 3.3 Есть ли зависимость между уровнем дохода и возвратом кредита в срок?"
   ]
  },
  {
   "cell_type": "code",
   "execution_count": 61,
   "id": "5b7e24b8",
   "metadata": {
    "deletable": false,
    "id": "cd7e3720"
   },
   "outputs": [
    {
     "name": "stdout",
     "output_type": "stream",
     "text": [
      "                       total_clients  delay_credit  ratio_delay_credit\n",
      "total_income_category                                                 \n",
      "A                                 25             2            8.000000\n",
      "B                               5014           354            7.060231\n",
      "C                              15921          1353            8.498210\n",
      "D                                349            21            6.017192\n",
      "E                                 22             2            9.090909\n"
     ]
    }
   ],
   "source": [
    "# Ваш код будет здесь. Вы можете создавать новые ячейки.\n",
    "pivot3 = data.pivot_table(index = ['total_income_category'], values = 'debt', aggfunc = {'count', 'sum'})\n",
    "pivot3 = pivot3.rename(columns = {'count': 'total_clients', 'sum':'delay_credit'})\n",
    "pivot3['ratio_delay_credit'] = pivot3['delay_credit'] / pivot3['total_clients'] * 100\n",
    "print(pivot3)\n"
   ]
  },
  {
   "cell_type": "markdown",
   "id": "86f84880",
   "metadata": {
    "deletable": false,
    "id": "e8593def"
   },
   "source": [
    "**Вывод:** По данным из таблицы можем сделать вывод , что люди наименьшим уровнем дохода реже выплачивают кредит в срок.(Сразу что-то не понял, не сразу увидел коментарий) "
   ]
  },
  {
   "cell_type": "markdown",
   "id": "e65b5df9",
   "metadata": {
    "deletable": false,
    "editable": false,
    "id": "99ecbd1f"
   },
   "source": [
    "#### 3.4 Как разные цели кредита влияют на его возврат в срок?"
   ]
  },
  {
   "cell_type": "code",
   "execution_count": 62,
   "id": "c687cbb0",
   "metadata": {
    "deletable": false,
    "id": "2b687290"
   },
   "outputs": [
    {
     "name": "stdout",
     "output_type": "stream",
     "text": [
      "debt                         0    1\n",
      "purpose_category                   \n",
      "операции с автомобилем    3879  400\n",
      "операции с недвижимостью  9971  780\n",
      "получение образования     3619  369\n",
      "проведение свадьбы        2130  183\n",
      "\n",
      "Операции с автомобилем: 10.311936065996392\n",
      "Операции с недвижимостью: 7.822685788787484\n",
      "Получение образования: 10.196186791931474\n",
      "Проведение свадьбы: 8.591549295774648\n"
     ]
    }
   ],
   "source": [
    "# Ваш код будет здесь. Вы можете создавать новые ячейки.\n",
    "pivot4 = data.pivot_table(index = ['purpose_category'], columns = 'debt', values = 'purpose', aggfunc = 'count')\n",
    "print(pivot4)\n",
    "auto = pivot4[1]['операции с автомобилем'] / pivot4[0]['операции с автомобилем'] * 100\n",
    "home = pivot4[1]['операции с недвижимостью'] / pivot4[0]['операции с недвижимостью'] * 100\n",
    "education = pivot4[1]['получение образования'] / pivot4[0]['получение образования'] * 100\n",
    "wedding = pivot4[1]['проведение свадьбы'] / pivot4[0]['проведение свадьбы'] * 100\n",
    "print(\n",
    ")\n",
    "print('Операции с автомобилем:', auto)\n",
    "print('Операции с недвижимостью:', home)\n",
    "print('Получение образования:', education)\n",
    "print('Проведение свадьбы:', wedding)"
   ]
  },
  {
   "cell_type": "markdown",
   "id": "0fb46fe6",
   "metadata": {
    "deletable": false,
    "id": "b4bb2ce6"
   },
   "source": [
    "**Вывод:** Клиенты берущие кредит для категорий 'Операции с автомобилем' и 'Получение образования' реже выплачивают кредит в срок."
   ]
  },
  {
   "cell_type": "markdown",
   "id": "c76b92c8",
   "metadata": {
    "deletable": false,
    "editable": false,
    "id": "09c3ac4c"
   },
   "source": [
    "#### 3.5 Приведите возможные причины появления пропусков в исходных данных."
   ]
  },
  {
   "cell_type": "markdown",
   "id": "442ecff6",
   "metadata": {
    "deletable": false,
    "id": "9da2ceda"
   },
   "source": [
    "*Ответ:* Я считаю , что причины появления пропусков в исходных данных могут быть ошибками ввода данных , ведь люди могут ошибаться.Так же возможно и потеря данных при переносе с одной версии программы на другую."
   ]
  },
  {
   "cell_type": "markdown",
   "id": "d2fa2b8f",
   "metadata": {
    "deletable": false,
    "editable": false,
    "id": "7b0487d6"
   },
   "source": [
    "#### 3.6 Объясните, почему заполнить пропуски медианным значением — лучшее решение для количественных переменных."
   ]
  },
  {
   "cell_type": "markdown",
   "id": "2cf5728a",
   "metadata": {
    "deletable": false,
    "id": "7ecf2b8e"
   },
   "source": [
    "*Ответ:* В данной таблицы медианное значение брали для заполнение пропусков с зарплатами , лучше использовать данный метод нежели среднее значение, так как большой разброс данных , среднее лучше применять когда данные распределенны более симметрично."
   ]
  },
  {
   "cell_type": "markdown",
   "id": "bf2d18d1",
   "metadata": {
    "deletable": false,
    "editable": false,
    "id": "6db5255a"
   },
   "source": [
    "### Шаг 4: общий вывод."
   ]
  },
  {
   "cell_type": "markdown",
   "id": "fbad0930",
   "metadata": {
    "deletable": false,
    "id": "bad65432"
   },
   "source": [
    "Напишите ваш общий вывод. В этом проекте мы работали с данными , сначала мы изучили наши входные данные , затем поработали с заполнением пропущенных значений , удалили дубликаты , изменяли типы данных , обработали дубликаты. Далее мы создали категории для целей кредита , уровня дохода. В конце проекта мы уже работали с готовыми данными , сначала мы нашли зависимость между количеством детей и возврата кредиты в срок , затем нашли зависимость между семейным положением и возврата кредита в срок , далее мы нашли зависимость дохода и вовзрата кредита в срок и оказалось , что люди наименьшим доходом реже выплачивают кредит в срок и в конце мы анализировали цели кредита и как они влияют на возврат кредита в срок.Считаю что данный анализ данных помогает узнать вероятность из какой категории клиенты лучше выплачивают кредит в срок."
   ]
  }
 ],
 "metadata": {
  "ExecuteTimeLog": [
   {
    "duration": 497,
    "start_time": "2022-11-09T18:46:20.332Z"
   },
   {
    "duration": 24,
    "start_time": "2022-11-09T18:46:20.830Z"
   },
   {
    "duration": 29,
    "start_time": "2022-11-09T18:46:20.855Z"
   },
   {
    "duration": 25,
    "start_time": "2022-11-09T18:46:20.886Z"
   },
   {
    "duration": 37,
    "start_time": "2022-11-09T18:46:20.913Z"
   },
   {
    "duration": 3,
    "start_time": "2022-11-09T18:46:20.952Z"
   },
   {
    "duration": 18,
    "start_time": "2022-11-09T18:46:20.957Z"
   },
   {
    "duration": 11,
    "start_time": "2022-11-09T18:46:20.977Z"
   },
   {
    "duration": 9,
    "start_time": "2022-11-09T18:46:20.990Z"
   },
   {
    "duration": 11,
    "start_time": "2022-11-09T18:46:21.002Z"
   },
   {
    "duration": 39,
    "start_time": "2022-11-09T18:46:21.014Z"
   },
   {
    "duration": 9,
    "start_time": "2022-11-09T18:46:21.055Z"
   },
   {
    "duration": 4,
    "start_time": "2022-11-09T18:46:21.066Z"
   },
   {
    "duration": 12,
    "start_time": "2022-11-09T18:46:21.071Z"
   },
   {
    "duration": 22,
    "start_time": "2022-11-09T18:46:21.085Z"
   },
   {
    "duration": 17,
    "start_time": "2022-11-09T18:46:21.108Z"
   },
   {
    "duration": 4,
    "start_time": "2022-11-09T18:46:21.146Z"
   },
   {
    "duration": 13,
    "start_time": "2022-11-09T18:46:21.151Z"
   },
   {
    "duration": 5,
    "start_time": "2022-11-09T18:46:21.166Z"
   },
   {
    "duration": 5,
    "start_time": "2022-11-09T18:46:21.173Z"
   },
   {
    "duration": 10,
    "start_time": "2022-11-09T18:46:21.180Z"
   },
   {
    "duration": 2,
    "start_time": "2022-11-09T18:46:21.192Z"
   },
   {
    "duration": 9,
    "start_time": "2022-11-09T18:46:21.195Z"
   },
   {
    "duration": 13,
    "start_time": "2022-11-09T18:46:21.205Z"
   },
   {
    "duration": 13,
    "start_time": "2022-11-09T18:46:21.220Z"
   },
   {
    "duration": 14,
    "start_time": "2022-11-09T18:59:05.090Z"
   },
   {
    "duration": 17,
    "start_time": "2022-11-09T19:05:58.899Z"
   },
   {
    "duration": 13,
    "start_time": "2022-11-09T19:16:50.161Z"
   },
   {
    "duration": 33,
    "start_time": "2022-11-09T19:17:12.033Z"
   },
   {
    "duration": 69,
    "start_time": "2022-11-09T19:18:07.992Z"
   },
   {
    "duration": 15,
    "start_time": "2022-11-09T19:18:08.063Z"
   },
   {
    "duration": 33,
    "start_time": "2022-11-09T19:18:08.079Z"
   },
   {
    "duration": 10,
    "start_time": "2022-11-09T19:18:08.114Z"
   },
   {
    "duration": 41,
    "start_time": "2022-11-09T19:18:08.126Z"
   },
   {
    "duration": 4,
    "start_time": "2022-11-09T19:18:08.168Z"
   },
   {
    "duration": 10,
    "start_time": "2022-11-09T19:18:08.173Z"
   },
   {
    "duration": 4,
    "start_time": "2022-11-09T19:18:08.185Z"
   },
   {
    "duration": 8,
    "start_time": "2022-11-09T19:18:08.190Z"
   },
   {
    "duration": 7,
    "start_time": "2022-11-09T19:18:08.200Z"
   },
   {
    "duration": 56,
    "start_time": "2022-11-09T19:18:08.208Z"
   },
   {
    "duration": 10,
    "start_time": "2022-11-09T19:18:08.266Z"
   },
   {
    "duration": 4,
    "start_time": "2022-11-09T19:18:08.278Z"
   },
   {
    "duration": 14,
    "start_time": "2022-11-09T19:18:08.283Z"
   },
   {
    "duration": 22,
    "start_time": "2022-11-09T19:18:08.299Z"
   },
   {
    "duration": 18,
    "start_time": "2022-11-09T19:18:08.345Z"
   },
   {
    "duration": 3,
    "start_time": "2022-11-09T19:18:08.365Z"
   },
   {
    "duration": 21,
    "start_time": "2022-11-09T19:18:08.369Z"
   },
   {
    "duration": 14,
    "start_time": "2022-11-09T19:18:08.391Z"
   },
   {
    "duration": 4,
    "start_time": "2022-11-09T19:18:08.407Z"
   },
   {
    "duration": 18,
    "start_time": "2022-11-09T19:18:08.412Z"
   },
   {
    "duration": 21,
    "start_time": "2022-11-09T19:18:08.431Z"
   },
   {
    "duration": 2,
    "start_time": "2022-11-09T19:18:08.454Z"
   },
   {
    "duration": 5,
    "start_time": "2022-11-09T19:18:08.458Z"
   },
   {
    "duration": 6,
    "start_time": "2022-11-09T19:18:08.465Z"
   },
   {
    "duration": 10,
    "start_time": "2022-11-09T19:18:52.294Z"
   },
   {
    "duration": 31,
    "start_time": "2022-11-09T19:19:08.169Z"
   },
   {
    "duration": 15,
    "start_time": "2022-11-09T19:19:21.429Z"
   },
   {
    "duration": 53,
    "start_time": "2022-11-09T19:28:23.018Z"
   },
   {
    "duration": 4,
    "start_time": "2022-11-09T19:33:06.996Z"
   },
   {
    "duration": 15,
    "start_time": "2022-11-09T19:33:15.887Z"
   },
   {
    "duration": 29,
    "start_time": "2022-11-09T19:34:22.370Z"
   },
   {
    "duration": 16,
    "start_time": "2022-11-09T19:34:51.107Z"
   },
   {
    "duration": 14,
    "start_time": "2022-11-09T19:42:45.170Z"
   },
   {
    "duration": 18,
    "start_time": "2022-11-09T19:42:55.530Z"
   },
   {
    "duration": 16,
    "start_time": "2022-11-09T19:43:21.121Z"
   },
   {
    "duration": 16,
    "start_time": "2022-11-09T19:45:27.950Z"
   },
   {
    "duration": 19,
    "start_time": "2022-11-09T19:45:53.952Z"
   },
   {
    "duration": 15,
    "start_time": "2022-11-09T19:46:02.348Z"
   },
   {
    "duration": 16,
    "start_time": "2022-11-09T19:46:16.218Z"
   },
   {
    "duration": 16,
    "start_time": "2022-11-09T19:46:43.356Z"
   },
   {
    "duration": 18,
    "start_time": "2022-11-09T19:47:03.054Z"
   },
   {
    "duration": 69,
    "start_time": "2022-11-09T19:52:23.404Z"
   },
   {
    "duration": 26,
    "start_time": "2022-11-09T19:53:18.546Z"
   },
   {
    "duration": 82,
    "start_time": "2022-11-09T19:55:52.314Z"
   },
   {
    "duration": 17,
    "start_time": "2022-11-09T19:55:56.682Z"
   },
   {
    "duration": 15,
    "start_time": "2022-11-09T19:56:34.052Z"
   },
   {
    "duration": 15,
    "start_time": "2022-11-09T19:58:58.359Z"
   },
   {
    "duration": 14,
    "start_time": "2022-11-09T19:59:06.773Z"
   },
   {
    "duration": 15,
    "start_time": "2022-11-09T19:59:16.900Z"
   },
   {
    "duration": 505,
    "start_time": "2022-11-09T20:03:56.574Z"
   },
   {
    "duration": 47,
    "start_time": "2022-11-09T20:04:28.830Z"
   },
   {
    "duration": 514,
    "start_time": "2022-11-09T20:04:53.302Z"
   },
   {
    "duration": 15,
    "start_time": "2022-11-09T20:05:44.002Z"
   },
   {
    "duration": 14,
    "start_time": "2022-11-09T20:05:59.577Z"
   },
   {
    "duration": 24,
    "start_time": "2022-11-09T20:17:24.582Z"
   },
   {
    "duration": 16,
    "start_time": "2022-11-09T20:17:31.801Z"
   },
   {
    "duration": 17,
    "start_time": "2022-11-09T20:22:22.802Z"
   },
   {
    "duration": 16,
    "start_time": "2022-11-09T20:22:50.394Z"
   },
   {
    "duration": 16,
    "start_time": "2022-11-09T20:23:20.506Z"
   },
   {
    "duration": 18,
    "start_time": "2022-11-09T20:23:55.364Z"
   },
   {
    "duration": 16,
    "start_time": "2022-11-09T20:24:14.316Z"
   },
   {
    "duration": 17,
    "start_time": "2022-11-09T20:24:50.848Z"
   },
   {
    "duration": 19,
    "start_time": "2022-11-09T20:25:04.334Z"
   },
   {
    "duration": 157,
    "start_time": "2022-11-10T17:40:11.759Z"
   },
   {
    "duration": 59,
    "start_time": "2022-11-10T17:40:19.016Z"
   },
   {
    "duration": 562,
    "start_time": "2022-11-10T17:40:23.308Z"
   },
   {
    "duration": 23,
    "start_time": "2022-11-10T17:40:23.873Z"
   },
   {
    "duration": 16,
    "start_time": "2022-11-10T17:40:23.898Z"
   },
   {
    "duration": 11,
    "start_time": "2022-11-10T17:40:23.916Z"
   },
   {
    "duration": 46,
    "start_time": "2022-11-10T17:40:23.928Z"
   },
   {
    "duration": 3,
    "start_time": "2022-11-10T17:40:23.976Z"
   },
   {
    "duration": 10,
    "start_time": "2022-11-10T17:40:23.981Z"
   },
   {
    "duration": 4,
    "start_time": "2022-11-10T17:40:23.993Z"
   },
   {
    "duration": 38,
    "start_time": "2022-11-10T17:40:23.999Z"
   },
   {
    "duration": 7,
    "start_time": "2022-11-10T17:40:24.039Z"
   },
   {
    "duration": 39,
    "start_time": "2022-11-10T17:40:24.047Z"
   },
   {
    "duration": 11,
    "start_time": "2022-11-10T17:40:24.088Z"
   },
   {
    "duration": 5,
    "start_time": "2022-11-10T17:40:24.100Z"
   },
   {
    "duration": 42,
    "start_time": "2022-11-10T17:40:24.106Z"
   },
   {
    "duration": 31,
    "start_time": "2022-11-10T17:40:24.151Z"
   },
   {
    "duration": 27,
    "start_time": "2022-11-10T17:40:24.185Z"
   },
   {
    "duration": 23,
    "start_time": "2022-11-10T17:40:24.215Z"
   },
   {
    "duration": 16,
    "start_time": "2022-11-10T17:40:24.241Z"
   },
   {
    "duration": 10,
    "start_time": "2022-11-10T17:40:24.259Z"
   },
   {
    "duration": 3,
    "start_time": "2022-11-10T17:40:24.271Z"
   },
   {
    "duration": 20,
    "start_time": "2022-11-10T17:40:24.276Z"
   },
   {
    "duration": 45,
    "start_time": "2022-11-10T17:40:24.297Z"
   },
   {
    "duration": 20,
    "start_time": "2022-11-10T17:40:24.343Z"
   },
   {
    "duration": 29,
    "start_time": "2022-11-10T17:40:24.365Z"
   },
   {
    "duration": 0,
    "start_time": "2022-11-10T17:40:24.396Z"
   },
   {
    "duration": 537,
    "start_time": "2022-11-10T17:40:30.113Z"
   },
   {
    "duration": 524,
    "start_time": "2022-11-10T17:40:44.884Z"
   },
   {
    "duration": 32,
    "start_time": "2022-11-10T17:42:30.780Z"
   },
   {
    "duration": 28,
    "start_time": "2022-11-10T17:42:59.493Z"
   },
   {
    "duration": 18,
    "start_time": "2022-11-10T17:44:59.107Z"
   },
   {
    "duration": 15,
    "start_time": "2022-11-10T17:45:06.876Z"
   },
   {
    "duration": 894,
    "start_time": "2022-11-10T17:46:56.036Z"
   },
   {
    "duration": 24,
    "start_time": "2022-11-10T17:47:19.126Z"
   },
   {
    "duration": 16,
    "start_time": "2022-11-10T17:47:26.589Z"
   },
   {
    "duration": 28,
    "start_time": "2022-11-10T17:50:38.054Z"
   },
   {
    "duration": 27,
    "start_time": "2022-11-10T17:54:05.089Z"
   },
   {
    "duration": 86,
    "start_time": "2022-11-10T17:54:19.439Z"
   },
   {
    "duration": 27,
    "start_time": "2022-11-10T17:54:32.302Z"
   },
   {
    "duration": 19,
    "start_time": "2022-11-10T18:02:48.170Z"
   },
   {
    "duration": 17,
    "start_time": "2022-11-10T18:03:02.016Z"
   },
   {
    "duration": 18,
    "start_time": "2022-11-10T18:03:07.751Z"
   },
   {
    "duration": 25,
    "start_time": "2022-11-10T18:08:59.688Z"
   },
   {
    "duration": 25,
    "start_time": "2022-11-10T18:09:03.291Z"
   },
   {
    "duration": 48,
    "start_time": "2022-11-11T16:27:36.196Z"
   },
   {
    "duration": 701,
    "start_time": "2022-11-11T16:27:40.124Z"
   },
   {
    "duration": 21,
    "start_time": "2022-11-11T16:27:40.827Z"
   },
   {
    "duration": 15,
    "start_time": "2022-11-11T16:27:40.849Z"
   },
   {
    "duration": 9,
    "start_time": "2022-11-11T16:27:40.867Z"
   },
   {
    "duration": 34,
    "start_time": "2022-11-11T16:27:40.877Z"
   },
   {
    "duration": 3,
    "start_time": "2022-11-11T16:27:40.913Z"
   },
   {
    "duration": 34,
    "start_time": "2022-11-11T16:27:40.917Z"
   },
   {
    "duration": 5,
    "start_time": "2022-11-11T16:27:40.952Z"
   },
   {
    "duration": 9,
    "start_time": "2022-11-11T16:27:40.958Z"
   },
   {
    "duration": 4,
    "start_time": "2022-11-11T16:27:40.970Z"
   },
   {
    "duration": 32,
    "start_time": "2022-11-11T16:27:40.976Z"
   },
   {
    "duration": 39,
    "start_time": "2022-11-11T16:27:41.010Z"
   },
   {
    "duration": 5,
    "start_time": "2022-11-11T16:27:41.050Z"
   },
   {
    "duration": 12,
    "start_time": "2022-11-11T16:27:41.057Z"
   },
   {
    "duration": 21,
    "start_time": "2022-11-11T16:27:41.071Z"
   },
   {
    "duration": 17,
    "start_time": "2022-11-11T16:27:41.093Z"
   },
   {
    "duration": 3,
    "start_time": "2022-11-11T16:27:41.112Z"
   },
   {
    "duration": 37,
    "start_time": "2022-11-11T16:27:41.117Z"
   },
   {
    "duration": 12,
    "start_time": "2022-11-11T16:27:41.155Z"
   },
   {
    "duration": 6,
    "start_time": "2022-11-11T16:27:41.169Z"
   },
   {
    "duration": 25,
    "start_time": "2022-11-11T16:27:41.177Z"
   },
   {
    "duration": 21,
    "start_time": "2022-11-11T16:27:41.204Z"
   },
   {
    "duration": 32,
    "start_time": "2022-11-11T16:27:41.227Z"
   },
   {
    "duration": 18,
    "start_time": "2022-11-11T16:27:41.260Z"
   },
   {
    "duration": 26,
    "start_time": "2022-11-11T16:27:41.281Z"
   },
   {
    "duration": 43,
    "start_time": "2022-11-11T16:28:08.873Z"
   },
   {
    "duration": 14,
    "start_time": "2022-11-11T16:29:07.438Z"
   },
   {
    "duration": 49,
    "start_time": "2022-11-15T19:30:16.533Z"
   },
   {
    "duration": 500,
    "start_time": "2022-11-15T19:30:21.735Z"
   },
   {
    "duration": 21,
    "start_time": "2022-11-15T19:30:22.237Z"
   },
   {
    "duration": 13,
    "start_time": "2022-11-15T19:30:22.259Z"
   },
   {
    "duration": 9,
    "start_time": "2022-11-15T19:30:22.274Z"
   },
   {
    "duration": 47,
    "start_time": "2022-11-15T19:30:22.284Z"
   },
   {
    "duration": 4,
    "start_time": "2022-11-15T19:30:22.334Z"
   },
   {
    "duration": 15,
    "start_time": "2022-11-15T19:30:22.339Z"
   },
   {
    "duration": 7,
    "start_time": "2022-11-15T19:30:22.355Z"
   },
   {
    "duration": 9,
    "start_time": "2022-11-15T19:30:22.363Z"
   },
   {
    "duration": 5,
    "start_time": "2022-11-15T19:30:22.374Z"
   },
   {
    "duration": 48,
    "start_time": "2022-11-15T19:30:22.380Z"
   },
   {
    "duration": 12,
    "start_time": "2022-11-15T19:30:22.430Z"
   },
   {
    "duration": 4,
    "start_time": "2022-11-15T19:30:22.444Z"
   },
   {
    "duration": 12,
    "start_time": "2022-11-15T19:30:22.450Z"
   },
   {
    "duration": 21,
    "start_time": "2022-11-15T19:30:22.464Z"
   },
   {
    "duration": 54,
    "start_time": "2022-11-15T19:30:22.486Z"
   },
   {
    "duration": 4,
    "start_time": "2022-11-15T19:30:22.541Z"
   },
   {
    "duration": 12,
    "start_time": "2022-11-15T19:30:22.547Z"
   },
   {
    "duration": 17,
    "start_time": "2022-11-15T19:30:22.561Z"
   },
   {
    "duration": 5,
    "start_time": "2022-11-15T19:30:22.580Z"
   },
   {
    "duration": 17,
    "start_time": "2022-11-15T19:30:22.587Z"
   },
   {
    "duration": 35,
    "start_time": "2022-11-15T19:30:22.606Z"
   },
   {
    "duration": 17,
    "start_time": "2022-11-15T19:30:22.643Z"
   },
   {
    "duration": 22,
    "start_time": "2022-11-15T19:30:22.662Z"
   },
   {
    "duration": 43,
    "start_time": "2022-11-15T19:30:22.685Z"
   },
   {
    "duration": 17,
    "start_time": "2022-11-15T19:36:59.574Z"
   },
   {
    "duration": 16,
    "start_time": "2022-11-15T19:39:44.893Z"
   },
   {
    "duration": 24,
    "start_time": "2022-11-15T19:42:39.774Z"
   },
   {
    "duration": 16,
    "start_time": "2022-11-15T19:44:16.102Z"
   },
   {
    "duration": 1133,
    "start_time": "2022-11-15T19:45:22.693Z"
   },
   {
    "duration": 17,
    "start_time": "2022-11-15T19:45:35.981Z"
   },
   {
    "duration": 18,
    "start_time": "2022-11-15T19:46:23.467Z"
   },
   {
    "duration": 17,
    "start_time": "2022-11-15T19:48:54.175Z"
   },
   {
    "duration": 24,
    "start_time": "2022-11-15T19:49:49.133Z"
   },
   {
    "duration": 20,
    "start_time": "2022-11-15T19:51:52.794Z"
   },
   {
    "duration": 18,
    "start_time": "2022-11-15T19:52:12.012Z"
   },
   {
    "duration": 61,
    "start_time": "2022-11-15T20:15:39.648Z"
   },
   {
    "duration": 15,
    "start_time": "2022-11-15T20:15:39.711Z"
   },
   {
    "duration": 15,
    "start_time": "2022-11-15T20:15:39.727Z"
   },
   {
    "duration": 8,
    "start_time": "2022-11-15T20:15:39.744Z"
   },
   {
    "duration": 30,
    "start_time": "2022-11-15T20:15:39.754Z"
   },
   {
    "duration": 3,
    "start_time": "2022-11-15T20:15:39.785Z"
   },
   {
    "duration": 32,
    "start_time": "2022-11-15T20:15:39.790Z"
   },
   {
    "duration": 4,
    "start_time": "2022-11-15T20:15:39.824Z"
   },
   {
    "duration": 13,
    "start_time": "2022-11-15T20:15:39.829Z"
   },
   {
    "duration": 9,
    "start_time": "2022-11-15T20:15:39.845Z"
   },
   {
    "duration": 37,
    "start_time": "2022-11-15T20:15:39.856Z"
   },
   {
    "duration": 7,
    "start_time": "2022-11-15T20:15:39.895Z"
   },
   {
    "duration": 18,
    "start_time": "2022-11-15T20:15:39.904Z"
   },
   {
    "duration": 10,
    "start_time": "2022-11-15T20:15:39.923Z"
   },
   {
    "duration": 20,
    "start_time": "2022-11-15T20:15:39.935Z"
   },
   {
    "duration": 16,
    "start_time": "2022-11-15T20:15:39.956Z"
   },
   {
    "duration": 3,
    "start_time": "2022-11-15T20:15:39.973Z"
   },
   {
    "duration": 11,
    "start_time": "2022-11-15T20:15:39.978Z"
   },
   {
    "duration": 32,
    "start_time": "2022-11-15T20:15:39.991Z"
   },
   {
    "duration": 3,
    "start_time": "2022-11-15T20:15:40.024Z"
   },
   {
    "duration": 25,
    "start_time": "2022-11-15T20:15:40.029Z"
   },
   {
    "duration": 26,
    "start_time": "2022-11-15T20:15:40.056Z"
   },
   {
    "duration": 17,
    "start_time": "2022-11-15T20:15:40.084Z"
   },
   {
    "duration": 32,
    "start_time": "2022-11-15T20:15:40.102Z"
   },
   {
    "duration": 16,
    "start_time": "2022-11-15T20:15:40.135Z"
   },
   {
    "duration": 86,
    "start_time": "2022-11-15T20:32:59.356Z"
   }
  ],
  "colab": {
   "name": "dpp_template_part2.ipynb",
   "provenance": []
  },
  "kernelspec": {
   "display_name": "Python 3 (ipykernel)",
   "language": "python",
   "name": "python3"
  },
  "language_info": {
   "codemirror_mode": {
    "name": "ipython",
    "version": 3
   },
   "file_extension": ".py",
   "mimetype": "text/x-python",
   "name": "python",
   "nbconvert_exporter": "python",
   "pygments_lexer": "ipython3",
   "version": "3.9.13"
  },
  "toc": {
   "base_numbering": 1,
   "nav_menu": {},
   "number_sections": true,
   "sideBar": true,
   "skip_h1_title": true,
   "title_cell": "Table of Contents",
   "title_sidebar": "Contents",
   "toc_cell": false,
   "toc_position": {},
   "toc_section_display": true,
   "toc_window_display": false
  }
 },
 "nbformat": 4,
 "nbformat_minor": 5
}
